{
 "cells": [
  {
   "cell_type": "code",
   "execution_count": 10,
   "metadata": {},
   "outputs": [],
   "source": [
    "import torch \n",
    "import pandas as pd\n",
    "import numpy as np\n",
    "from dataset import LuciferaseDataset\n",
    "from models import fc_encoder, fc_decoder, MSA_VAE\n",
    "from utils import seq_to_ohe, ohe_to_seq"
   ]
  },
  {
   "cell_type": "code",
   "execution_count": 6,
   "metadata": {},
   "outputs": [],
   "source": [
    "# sample 3000\n",
    "# pca encoded"
   ]
  },
  {
   "cell_type": "code",
   "execution_count": 8,
   "metadata": {},
   "outputs": [],
   "source": [
    "ENCODER_KWARGS = {'latent_dim' : 10,\n",
    "        'seq_len' : 360,\n",
    "        'encoder_hidden' : [256, 256],\n",
    "        'encoder_dropout' : [0, 0],\n",
    "        }\n",
    "\n",
    "DECODER_KWARGS = {'latent_dim' : 10,\n",
    "        'seq_len' : 360,\n",
    "        'decoder_hidden' : [256, 256],\n",
    "        'decoder_dropout' : [0, 0]}\n",
    "\n",
    "luxA = 'MKFGNFLLTYQPPQFSQTEVMKRLVKLGRISEECGFDTVWLLEHHFTEFGLLGNPYVAAAYLLGATKKLNVGTAAIVLPTAHPVRQLEDVNLLDQMSKGRFRFGICRGLYNKDFRVFGTDMNNSRALAECWYGLIKNGMTEGYMEADNEHIKFHKVKVNPAAYSRGGAPVYVVAESASTTEWAAQFGLPMILSWIINTNEKKAQLELYNEVAQEYGHDIHNIDHCLSYITSVDHDSIKAKEICRKFLGHWYDSYVNATTIFDDSDQTRGYDFNKGQWRDFVLKGHKDTNRRIDYSYEINPVGTPQECIDIIQKDIDATGISNICCGFEANGTVDEIIASMKLFQSDVMPFLKEKQRSLLY'"
   ]
  },
  {
   "cell_type": "code",
   "execution_count": 9,
   "metadata": {},
   "outputs": [
    {
     "name": "stdout",
     "output_type": "stream",
     "text": [
      "360\n"
     ]
    }
   ],
   "source": [
    "print(len(luxA))"
   ]
  },
  {
   "cell_type": "code",
   "execution_count": 108,
   "metadata": {},
   "outputs": [],
   "source": [
    "def sample(model_checkpoint, n_samples, stdev=0.01):\n",
    "    \n",
    "    # load model\n",
    "    encoder = fc_encoder(**ENCODER_KWARGS)\n",
    "    decoder = fc_decoder(**DECODER_KWARGS)\n",
    "    model = MSA_VAE(encoder, decoder)\n",
    "    checkpoint = torch.load(model_checkpoint, map_location=torch.device('cpu'))\n",
    "    model.load_state_dict(checkpoint['model_state_dict'])\n",
    "    model.eval()\n",
    "    \n",
    "    # encode template luxA\n",
    "    luxa_ohe = torch.tensor(seq_to_ohe(luxA)).unsqueeze(0).reshape(1, 21, 360).float()\n",
    "    luxa_ohe = luxa_ohe.repeat(n_samples, 1, 1)\n",
    "    \n",
    "    mu, logvar = model.encoder(luxa_ohe)\n",
    "    z = model.reparameterize(mu, logvar)\n",
    "    \n",
    "    # add noise\n",
    "    if stdev > 0.0:\n",
    "        noise = torch.normal(0, stdev, z.shape)\n",
    "        z += noise\n",
    "    \n",
    "    # decode\n",
    "    decoded = model.decoder(z).detach().permute(0, 2, 1).numpy()\n",
    "    \n",
    "    # ohe to sequence\n",
    "    seqs = []\n",
    "    for i in range(decoded.shape[0]):\n",
    "        seq = ohe_to_seq(decoded[i, ...])\n",
    "        seqs.append(seq)\n",
    "        \n",
    "    df = pd.DataFrame(seqs, columns='generated')\n",
    "    df['sample'] = []\n",
    "    \n",
    "    return df\n",
    "    \n",
    "    "
   ]
  },
  {
   "cell_type": "code",
   "execution_count": 109,
   "metadata": {},
   "outputs": [],
   "source": [
    "decoded = sample('../checkpoints/luciferase_14.pt', 3000, 0)"
   ]
  },
  {
   "cell_type": "code",
   "execution_count": 110,
   "metadata": {},
   "outputs": [
    {
     "data": {
      "text/html": [
       "<div>\n",
       "<style scoped>\n",
       "    .dataframe tbody tr th:only-of-type {\n",
       "        vertical-align: middle;\n",
       "    }\n",
       "\n",
       "    .dataframe tbody tr th {\n",
       "        vertical-align: top;\n",
       "    }\n",
       "\n",
       "    .dataframe thead th {\n",
       "        text-align: right;\n",
       "    }\n",
       "</style>\n",
       "<table border=\"1\" class=\"dataframe\">\n",
       "  <thead>\n",
       "    <tr style=\"text-align: right;\">\n",
       "      <th></th>\n",
       "      <th>0</th>\n",
       "    </tr>\n",
       "  </thead>\n",
       "  <tbody>\n",
       "    <tr>\n",
       "      <th>0</th>\n",
       "      <td>EAKRAAGAHQAAACVGWEADFCAIAQAARAGHIMSAAND-AAAREA...</td>\n",
       "    </tr>\n",
       "    <tr>\n",
       "      <th>1</th>\n",
       "      <td>EAKRAAGAHQAAACVGWEADFCAIAQAARAGHIMSAAND-AAAREA...</td>\n",
       "    </tr>\n",
       "    <tr>\n",
       "      <th>2</th>\n",
       "      <td>EAKRAAGAHQAAACVGWEADFCAIAQAARAGHIMSAAND-AAAREA...</td>\n",
       "    </tr>\n",
       "    <tr>\n",
       "      <th>3</th>\n",
       "      <td>EAKRAAGAHQAAACVPWEADFCAIAQSARAGHIMSAAND-AAKREA...</td>\n",
       "    </tr>\n",
       "    <tr>\n",
       "      <th>4</th>\n",
       "      <td>EAKAAAGAHQAAACVPWEADFCAIAQSARAGHAMSAAND-AAAREA...</td>\n",
       "    </tr>\n",
       "    <tr>\n",
       "      <th>...</th>\n",
       "      <td>...</td>\n",
       "    </tr>\n",
       "    <tr>\n",
       "      <th>2995</th>\n",
       "      <td>EAKRAAAAHQAAACVGWEADFCAIAQAARAGHIMSAAND-AAKREA...</td>\n",
       "    </tr>\n",
       "    <tr>\n",
       "      <th>2996</th>\n",
       "      <td>EAKRAAGAHQAAACVGWEADFCAIAQSARAGHAMSAAND-AAKREA...</td>\n",
       "    </tr>\n",
       "    <tr>\n",
       "      <th>2997</th>\n",
       "      <td>EAKRAAGAHQAAACVGWEADFCAIAQAARAGHIMSAAND-AAAREA...</td>\n",
       "    </tr>\n",
       "    <tr>\n",
       "      <th>2998</th>\n",
       "      <td>EAKRAAAAHQAAACVGWEADFCAIAQAARAGHIMSAAND-AAAREA...</td>\n",
       "    </tr>\n",
       "    <tr>\n",
       "      <th>2999</th>\n",
       "      <td>EAKRAAGAHQAAACVGWEADFCAIAQAARAGHIMSAAND-AAKREA...</td>\n",
       "    </tr>\n",
       "  </tbody>\n",
       "</table>\n",
       "<p>3000 rows × 1 columns</p>\n",
       "</div>"
      ],
      "text/plain": [
       "                                                      0\n",
       "0     EAKRAAGAHQAAACVGWEADFCAIAQAARAGHIMSAAND-AAAREA...\n",
       "1     EAKRAAGAHQAAACVGWEADFCAIAQAARAGHIMSAAND-AAAREA...\n",
       "2     EAKRAAGAHQAAACVGWEADFCAIAQAARAGHIMSAAND-AAAREA...\n",
       "3     EAKRAAGAHQAAACVPWEADFCAIAQSARAGHIMSAAND-AAKREA...\n",
       "4     EAKAAAGAHQAAACVPWEADFCAIAQSARAGHAMSAAND-AAAREA...\n",
       "...                                                 ...\n",
       "2995  EAKRAAAAHQAAACVGWEADFCAIAQAARAGHIMSAAND-AAKREA...\n",
       "2996  EAKRAAGAHQAAACVGWEADFCAIAQSARAGHAMSAAND-AAKREA...\n",
       "2997  EAKRAAGAHQAAACVGWEADFCAIAQAARAGHIMSAAND-AAAREA...\n",
       "2998  EAKRAAAAHQAAACVGWEADFCAIAQAARAGHIMSAAND-AAAREA...\n",
       "2999  EAKRAAGAHQAAACVGWEADFCAIAQAARAGHIMSAAND-AAKREA...\n",
       "\n",
       "[3000 rows x 1 columns]"
      ]
     },
     "execution_count": 110,
     "metadata": {},
     "output_type": "execute_result"
    }
   ],
   "source": [
    "decoded"
   ]
  },
  {
   "cell_type": "code",
   "execution_count": null,
   "metadata": {},
   "outputs": [],
   "source": []
  }
 ],
 "metadata": {
  "kernelspec": {
   "display_name": "Python 3",
   "language": "python",
   "name": "python3"
  },
  "language_info": {
   "codemirror_mode": {
    "name": "ipython",
    "version": 3
   },
   "file_extension": ".py",
   "mimetype": "text/x-python",
   "name": "python",
   "nbconvert_exporter": "python",
   "pygments_lexer": "ipython3",
   "version": "3.7.3"
  }
 },
 "nbformat": 4,
 "nbformat_minor": 4
}
